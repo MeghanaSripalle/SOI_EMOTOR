{
 "cells": [
  {
   "cell_type": "code",
   "execution_count": 1,
   "id": "3d0e409c",
   "metadata": {},
   "outputs": [],
   "source": [
    "#importing the libraries\n",
    "import tensorflow as tf\n",
    "from tensorflow import keras\n",
    "from keras import layers,models\n",
    "from keras.models import Sequential\n",
    "import numpy as np\n",
    "import matplotlib.pyplot as plt\n",
    "import PIL\n",
    "import os\n",
    "from keras.applications.vgg16 import VGG16\n"
   ]
  },
  {
   "cell_type": "code",
   "execution_count": 2,
   "id": "722112f9",
   "metadata": {},
   "outputs": [],
   "source": [
    "img_height = 48\n",
    "img_width = 48"
   ]
  },
  {
   "cell_type": "code",
   "execution_count": 3,
   "id": "7e18b53d",
   "metadata": {},
   "outputs": [
    {
     "name": "stdout",
     "output_type": "stream",
     "text": [
      "Found 28709 files belonging to 7 classes.\n",
      "Found 7178 files belonging to 7 classes.\n"
     ]
    }
   ],
   "source": [
    "train_dataset = keras.utils.image_dataset_from_directory(\n",
    "    directory='train/',\n",
    "    #validation_split=0.2,\n",
    "    #subset=\"training\",\n",
    "    seed=123,\n",
    "    batch_size=32,\n",
    "    image_size=(48, 48),\n",
    "    color_mode='grayscale')\n",
    "\n",
    "test_dataset = keras.utils.image_dataset_from_directory(\n",
    "    directory='test/',\n",
    "    #validation_split=0.2,\n",
    "    #subset=\"validation\",\n",
    "    seed=123,\n",
    "    batch_size=32,\n",
    "    image_size=(48, 48),\n",
    "    shuffle=False,\n",
    "    color_mode='grayscale')\n",
    "    \n",
    "classes = train_dataset.class_names\n",
    "no_of_classes = len(classes)\n",
    "    "
   ]
  },
  {
   "cell_type": "code",
   "execution_count": 14,
   "id": "c3ebe038",
   "metadata": {},
   "outputs": [],
   "source": [
    "#CNN custom model \n",
    "model = Sequential([\n",
    "  layers.Rescaling(1./255, input_shape=(img_height, img_width, 1)),\n",
    "  layers.Conv2D(64, 3, padding='same', activation='relu'),\n",
    "  layers.BatchNormalization(),\n",
    "  layers.Conv2D(64, 3, padding='same', activation='relu'),\n",
    "  layers.BatchNormalization(),\n",
    "  layers.MaxPooling2D(),\n",
    "  layers.Conv2D(128, 3, padding='same', activation='relu'),\n",
    "  layers.BatchNormalization(),\n",
    "  layers.Conv2D(128, 3, padding='same', activation='relu'),\n",
    "  layers.BatchNormalization(),\n",
    "  layers.MaxPooling2D(),\n",
    "  #layers.Dropout(0.2),\n",
    "  layers.Conv2D(256, 3, padding='same', activation='relu'),\n",
    "  layers.BatchNormalization(),\n",
    "  layers.MaxPooling2D(),\n",
    "  #layers.Dropout(0.2),\n",
    "  layers.Conv2D(512, 3, padding='same', activation='relu'),\n",
    "  layers.BatchNormalization(),\n",
    "  layers.MaxPooling2D(),\n",
    "  #ayers.Dropout(0.2),\n",
    "  layers.Flatten(),\n",
    "  layers.Dropout(0.5),\n",
    "  layers.Dense(64, activation='relu'),\n",
    "  layers.Dense(no_of_classes,activation='softmax')\n",
    "])"
   ]
  },
  {
   "cell_type": "code",
   "execution_count": 15,
   "id": "67ee231e",
   "metadata": {},
   "outputs": [],
   "source": [
    "model.compile(optimizer=tf.keras.optimizers.SGD(learning_rate=0.0001,momentum=0.9),\n",
    "              loss=tf.keras.losses.SparseCategoricalCrossentropy(),\n",
    "              metrics=['accuracy'])"
   ]
  },
  {
   "cell_type": "code",
   "execution_count": 16,
   "id": "e74c9845",
   "metadata": {},
   "outputs": [
    {
     "name": "stdout",
     "output_type": "stream",
     "text": [
      "Model: \"sequential_2\"\n",
      "_________________________________________________________________\n",
      " Layer (type)                Output Shape              Param #   \n",
      "=================================================================\n",
      " rescaling_3 (Rescaling)     (None, 48, 48, 1)         0         \n",
      "                                                                 \n",
      " conv2d_15 (Conv2D)          (None, 48, 48, 64)        640       \n",
      "                                                                 \n",
      " batch_normalization_15 (Bat  (None, 48, 48, 64)       256       \n",
      " chNormalization)                                                \n",
      "                                                                 \n",
      " conv2d_16 (Conv2D)          (None, 48, 48, 64)        36928     \n",
      "                                                                 \n",
      " batch_normalization_16 (Bat  (None, 48, 48, 64)       256       \n",
      " chNormalization)                                                \n",
      "                                                                 \n",
      " max_pooling2d_10 (MaxPoolin  (None, 24, 24, 64)       0         \n",
      " g2D)                                                            \n",
      "                                                                 \n",
      " conv2d_17 (Conv2D)          (None, 24, 24, 128)       73856     \n",
      "                                                                 \n",
      " batch_normalization_17 (Bat  (None, 24, 24, 128)      512       \n",
      " chNormalization)                                                \n",
      "                                                                 \n",
      " conv2d_18 (Conv2D)          (None, 24, 24, 128)       147584    \n",
      "                                                                 \n",
      " batch_normalization_18 (Bat  (None, 24, 24, 128)      512       \n",
      " chNormalization)                                                \n",
      "                                                                 \n",
      " max_pooling2d_11 (MaxPoolin  (None, 12, 12, 128)      0         \n",
      " g2D)                                                            \n",
      "                                                                 \n",
      " conv2d_19 (Conv2D)          (None, 12, 12, 256)       295168    \n",
      "                                                                 \n",
      " batch_normalization_19 (Bat  (None, 12, 12, 256)      1024      \n",
      " chNormalization)                                                \n",
      "                                                                 \n",
      " max_pooling2d_12 (MaxPoolin  (None, 6, 6, 256)        0         \n",
      " g2D)                                                            \n",
      "                                                                 \n",
      " conv2d_20 (Conv2D)          (None, 6, 6, 512)         1180160   \n",
      "                                                                 \n",
      " batch_normalization_20 (Bat  (None, 6, 6, 512)        2048      \n",
      " chNormalization)                                                \n",
      "                                                                 \n",
      " max_pooling2d_13 (MaxPoolin  (None, 3, 3, 512)        0         \n",
      " g2D)                                                            \n",
      "                                                                 \n",
      " flatten_3 (Flatten)         (None, 4608)              0         \n",
      "                                                                 \n",
      " dropout_5 (Dropout)         (None, 4608)              0         \n",
      "                                                                 \n",
      " dense_5 (Dense)             (None, 64)                294976    \n",
      "                                                                 \n",
      " dense_6 (Dense)             (None, 7)                 455       \n",
      "                                                                 \n",
      "=================================================================\n",
      "Total params: 2,034,375\n",
      "Trainable params: 2,032,071\n",
      "Non-trainable params: 2,304\n",
      "_________________________________________________________________\n"
     ]
    }
   ],
   "source": [
    "#CNN model architecture\n",
    "model.summary()"
   ]
  },
  {
   "cell_type": "code",
   "execution_count": 17,
   "id": "bbe31b34",
   "metadata": {},
   "outputs": [
    {
     "name": "stdout",
     "output_type": "stream",
     "text": [
      "Epoch 1/10\n",
      "898/898 [==============================] - 978s 1s/step - loss: 1.9190 - accuracy: 0.2533 - val_loss: 1.6928 - val_accuracy: 0.3123\n",
      "Epoch 2/10\n",
      "898/898 [==============================] - 986s 1s/step - loss: 1.6796 - accuracy: 0.3310 - val_loss: 1.5799 - val_accuracy: 0.3865\n",
      "Epoch 3/10\n",
      "898/898 [==============================] - 842s 938ms/step - loss: 1.5877 - accuracy: 0.3744 - val_loss: 1.5047 - val_accuracy: 0.4224\n",
      "Epoch 4/10\n",
      "898/898 [==============================] - 788s 877ms/step - loss: 1.5045 - accuracy: 0.4123 - val_loss: 1.4495 - val_accuracy: 0.4386\n",
      "Epoch 5/10\n",
      "898/898 [==============================] - 751s 837ms/step - loss: 1.4434 - accuracy: 0.4386 - val_loss: 1.4230 - val_accuracy: 0.4508\n",
      "Epoch 6/10\n",
      "898/898 [==============================] - 742s 826ms/step - loss: 1.3898 - accuracy: 0.4617 - val_loss: 1.3622 - val_accuracy: 0.4731\n",
      "Epoch 7/10\n",
      "898/898 [==============================] - 742s 826ms/step - loss: 1.3467 - accuracy: 0.4810 - val_loss: 1.3368 - val_accuracy: 0.4838\n",
      "Epoch 8/10\n",
      "898/898 [==============================] - 734s 817ms/step - loss: 1.2982 - accuracy: 0.5003 - val_loss: 1.3081 - val_accuracy: 0.4961\n",
      "Epoch 9/10\n",
      "898/898 [==============================] - 740s 824ms/step - loss: 1.2548 - accuracy: 0.5189 - val_loss: 1.2777 - val_accuracy: 0.5057\n",
      "Epoch 10/10\n",
      "898/898 [==============================] - 709s 790ms/step - loss: 1.2199 - accuracy: 0.5339 - val_loss: 1.2673 - val_accuracy: 0.5121\n"
     ]
    }
   ],
   "source": [
    "#training of the CNN model\n",
    "epochs=10\n",
    "history = model.fit(\n",
    "  train_dataset,\n",
    "  validation_data=test_dataset,\n",
    "  epochs=epochs\n",
    ")"
   ]
  },
  {
   "cell_type": "code",
   "execution_count": 19,
   "id": "c2a4aa0c",
   "metadata": {},
   "outputs": [
    {
     "data": {
      "image/png": "[encoded data removed]",
      "text/plain": [
       "<Figure size 432x288 with 1 Axes>"
      ]
     },
     "metadata": {
      "needs_background": "light"
     },
     "output_type": "display_data"
    },
    {
     "data": {
      "image/png": "[encoded data removed]",
      "text/plain": [
       "<Figure size 432x288 with 1 Axes>"
      ]
     },
     "metadata": {
      "needs_background": "light"
     },
     "output_type": "display_data"
    }
   ],
   "source": [
    "#plotting the accuracy and loss graphs\n",
    "import matplotlib.pyplot as plt\n",
    "\n",
    "plt.plot(history.history['loss'])\n",
    "plt.plot(history.history['val_loss'])\n",
    "plt.title('Model Loss')\n",
    "plt.ylabel('Loss')\n",
    "plt.xlabel('Epoch')\n",
    "plt.legend(['Training', 'Testing'], loc='upper left')\n",
    "plt.show()\n",
    "plt.plot(history.history['accuracy'])\n",
    "plt.plot(history.history['val_accuracy'])\n",
    "plt.title('Model Accuracy')\n",
    "plt.ylabel('Accuracy')\n",
    "plt.xlabel('Epoch')\n",
    "plt.legend(['Training', 'Testing'], loc='upper left')\n",
    "plt.show()"
   ]
  },
  {
   "cell_type": "code",
   "execution_count": null,
   "id": "56f87076",
   "metadata": {},
   "outputs": [],
   "source": [
    "#collecting data for the predictions.csv file\n",
    "import os\n",
    "from keras.preprocessing import image\n",
    "import numpy as np\n",
    "\n",
    "path = os.getcwd()\n",
    "testfolder_path = path + '/EMOTOR_TEST'\n",
    "\n",
    "images = []\n",
    "files = []\n",
    "predictions = []\n",
    "for img in os.listdir(testfolder_path):\n",
    "    files.append(img)\n",
    "    img = os.path.join(testfolder_path, img)\n",
    "    img = image.load_img(img, target_size=(48,48),color_mode='grayscale')\n",
    "    img = image.img_to_array(img)\n",
    "    img = np.expand_dims(img, axis=0)\n",
    "    images.append(img)\n",
    "    predictions.append(classes[np.argmax(model.predict(img))])\n",
    "    \n"
   ]
  },
  {
   "cell_type": "code",
   "execution_count": 25,
   "id": "6be3dacc",
   "metadata": {},
   "outputs": [],
   "source": [
    "#creating the predictions.csv file\n",
    "import pandas as pd\n",
    "\n",
    "df = pd.DataFrame({'img_name':files})\n",
    "df['label'] = predictions\n",
    "\n",
    "df.to_csv(\"predictions.csv\",index=False)"
   ]
  },
  {
   "cell_type": "code",
   "execution_count": 26,
   "id": "1ffb018c",
   "metadata": {},
   "outputs": [
    {
     "name": "stdout",
     "output_type": "stream",
     "text": [
      "Saved model to disk\n"
     ]
    }
   ],
   "source": [
    "#saving the model to the disk\n",
    "model_json = model.to_json()\n",
    "with open(\"model.json\", \"w\") as json_file:\n",
    " json_file.write(model_json)\n",
    " model.save_weights(\"model.h5\")\n",
    "print(\"Saved model to disk\")"
   ]
  }
 ],
 "metadata": {
  "kernelspec": {
   "display_name": "Python 3 (ipykernel)",
   "language": "python",
   "name": "python3"
  },
  "language_info": {
   "codemirror_mode": {
    "name": "ipython",
    "version": 3
   },
   "file_extension": ".py",
   "mimetype": "text/x-python",
   "name": "python",
   "nbconvert_exporter": "python",
   "pygments_lexer": "ipython3",
   "version": "3.9.7"
  }
 },
 "nbformat": 4,
 "nbformat_minor": 5
}
