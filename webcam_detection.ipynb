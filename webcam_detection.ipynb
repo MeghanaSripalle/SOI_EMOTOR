{
 "cells": [
  {
   "cell_type": "code",
   "execution_count": 2,
   "id": "d37c25e2",
   "metadata": {},
   "outputs": [],
   "source": [
    "#importing libraries\n",
    "import os\n",
    "import cv2\n",
    "import numpy as np\n",
    "from keras.models import model_from_json\n",
    "from keras.preprocessing import image"
   ]
  },
  {
   "cell_type": "code",
   "execution_count": 5,
   "id": "b0c21e35",
   "metadata": {},
   "outputs": [],
   "source": [
    "#loading the model weights\n",
    "model_emotion = model_from_json(open(\"model.json\", \"r\").read())\n",
    "model_emotion.load_weights('model.h5')\n",
    "\n",
    "#haar cascade file\n",
    "haar_cascade = cv2.CascadeClassifier(cv2.data.haarcascades +'haarcascade_frontalface_default.xml')\n"
   ]
  },
  {
   "cell_type": "code",
   "execution_count": 12,
   "id": "397b733a",
   "metadata": {},
   "outputs": [],
   "source": [
    "vid=cv2.VideoCapture(0)\n",
    "while vid.isOpened():\n",
    "    _,rec_img=vid.read()\n",
    "    grayscale_image= cv2.cvtColor(rec_img, cv2.COLOR_BGR2GRAY) #convert rgb to grayscale\n",
    "    #cv2.imshow('window',grayscale_image)\n",
    "    faces = haar_cascade.detectMultiScale(grayscale_image,1.1,4)\n",
    "    for (x,y,w,h) in faces:\n",
    "       frame = cv2.rectangle(rec_img,(x,y), (x+w,y+h), (255,0,0),thickness=3)\n",
    "       roi_gray=grayscale_image[y:y+w,x:x+h]\n",
    "       roi_gray=cv2.resize(roi_gray,(48,48))\n",
    "       image_pixels = image.img_to_array(roi_gray)\n",
    "       image_pixels = np.expand_dims(image_pixels, axis = 0)\n",
    "    \n",
    "       predictions = model_emotion.predict(image_pixels)\n",
    "       max_index = np.argmax(predictions[0])\n",
    "    \n",
    "       emotion_detection = ['angry', 'disgust', 'fear', 'happy', 'sad', 'surprise', 'neutral']\n",
    "       emotion_prediction = emotion_detection[max_index]\n",
    "    \n",
    "       cv2.putText(rec_img, emotion_prediction, (int(x), int(y)),cv2.FONT_HERSHEY_SIMPLEX,1,(0,255,0),3)\n",
    "       #cv2.putText(frame,label,label_position,cv2.FONT_HERSHEY_SIMPLEX,2,(0,255,0),3)\n",
    "                   \n",
    "       resized_image = cv2.resize(rec_img, (1000, 700))\n",
    "       cv2.imshow('Emotion',resized_image)\n",
    "    if cv2.waitKey(1) == ord('b'):\n",
    "         break\n",
    "vid.release()\n",
    "cv2.destroyAllWindows()                  "
   ]
  },
  {
   "cell_type": "code",
   "execution_count": null,
   "id": "8290f14e",
   "metadata": {},
   "outputs": [],
   "source": []
  }
 ],
 "metadata": {
  "kernelspec": {
   "display_name": "Python 3 (ipykernel)",
   "language": "python",
   "name": "python3"
  },
  "language_info": {
   "codemirror_mode": {
    "name": "ipython",
    "version": 3
   },
   "file_extension": ".py",
   "mimetype": "text/x-python",
   "name": "python",
   "nbconvert_exporter": "python",
   "pygments_lexer": "ipython3",
   "version": "3.9.7"
  }
 },
 "nbformat": 4,
 "nbformat_minor": 5
}
